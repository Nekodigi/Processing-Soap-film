{
 "cells": [
  {
   "cell_type": "markdown",
   "metadata": {},
   "source": [
    "# Soap Color with Colorpy\n",
    "* requires colorpy"
   ]
  },
  {
   "cell_type": "code",
   "execution_count": 125,
   "metadata": {},
   "outputs": [
    {
     "name": "stderr",
     "output_type": "stream",
     "text": [
      "Clipping input data to the valid range for imshow with RGB data ([0..1] for floats or [0..255] for integers).\n"
     ]
    },
    {
     "data": {
      "text/plain": [
       "<matplotlib.image.AxesImage at 0x219e3bcbdc0>"
      ]
     },
     "execution_count": 125,
     "metadata": {},
     "output_type": "execute_result"
    },
    {
     "data": {
      "image/png": "[encoded data removed]",
      "text/plain": [
       "<Figure size 432x288 with 1 Axes>"
      ]
     },
     "metadata": {
      "needs_background": "light"
     },
     "output_type": "display_data"
    }
   ],
   "source": [
    "import thinfilm\n",
    "import illuminants\n",
    "import matplotlib.pyplot as plt\n",
    "import numpy as np\n",
    "illuminant = illuminants.get_illuminant_D65()\n",
    "illuminants.scale_illuminant (illuminant, 9.50)\n",
    "n = 1000\n",
    "nm = np.linspace(0, 1000, n)\n",
    "colors = np.zeros((n, 1, 3))\n",
    "for i in range(n):\n",
    "    colors[i] = thinfilm.thin_film(1.003, 1.44, 1.003, nm[i]).illuminated_color (illuminant)\n",
    "\n",
    "#plt.figure(figsize=(8, 1), dpi=80)\n",
    "colors = colors.transpose((1, 0, 2))\n",
    "plt.imshow(colors, aspect='auto')\n"
   ]
  },
  {
   "cell_type": "code",
   "execution_count": 127,
   "metadata": {},
   "outputs": [
    {
     "name": "stderr",
     "output_type": "stream",
     "text": [
      "Clipping input data to the valid range for imshow with RGB data ([0..1] for floats or [0..255] for integers).\n"
     ]
    },
    {
     "data": {
      "image/png": "[encoded data removed]",
      "text/plain": [
       "<Figure size 640x1.6 with 1 Axes>"
      ]
     },
     "metadata": {
      "needs_background": "light"
     },
     "output_type": "display_data"
    }
   ],
   "source": [
    "plt.figure(figsize=(8, 0.02), dpi=80)\n",
    "plt.axis('off')\n",
    "plt.imshow(colors,aspect='auto')#aspect='auto'\n",
    "plt.savefig(\"SoapColor.png\")"
   ]
  },
  {
   "cell_type": "code",
   "execution_count": null,
   "metadata": {},
   "outputs": [],
   "source": []
  }
 ],
 "metadata": {
  "kernelspec": {
   "display_name": "Python 3",
   "language": "python",
   "name": "python3"
  },
  "language_info": {
   "codemirror_mode": {
    "name": "ipython",
    "version": 3
   },
   "file_extension": ".py",
   "mimetype": "text/x-python",
   "name": "python",
   "nbconvert_exporter": "python",
   "pygments_lexer": "ipython3",
   "version": "3.8.5"
  }
 },
 "nbformat": 4,
 "nbformat_minor": 4
}
